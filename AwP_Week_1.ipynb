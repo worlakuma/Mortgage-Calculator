{
 "cells": [
  {
   "cell_type": "code",
   "execution_count": 2,
   "metadata": {},
   "outputs": [
    {
     "name": "stdout",
     "output_type": "stream",
     "text": [
      "\n",
      "For a 3.0 year loan of $100.00 at an annual interest rate of 5.0% you will pay\n",
      "-------------------------------------------------------------------------------\n",
      "\n",
      "Scheduled Monthly Payment = $3.00\n",
      "------------------------------------\n",
      "\n",
      "Scheduled Total Payment = $107.90\n",
      "-------------------------------------\n"
     ]
    }
   ],
   "source": [
    "# input for loan calculator\n",
    "\n",
    "p = float(input('Enter principal amount: '))                    # loan principal amount\n",
    "\n",
    "annual_interest_rate = float(input('Enter annual interest rate as a percentage: '))    \n",
    "\n",
    "r = annual_interest_rate/12/100                                             # monthly interest rate\n",
    "\n",
    "loan_period_years = float(input('Enter total loan period in years: ')) \n",
    "    \n",
    "n = loan_period_years*12                                 # loan period in months\n",
    "\n",
    "m = p * (r * (1 + r) ** n) / ((1 + r) ** n - 1)          # scheduled monthly loan repayment amount\n",
    "\n",
    "total_loan_payable = m * n                               # scheduled total loan interest and principal payable \n",
    "\n",
    "# output for loan client\n",
    "print(f'\\nFor a {loan_period_years} year loan of ${p:.2f} at an annual interest rate of {annual_interest_rate}% you will pay\\n-------------------------------------------------------------------------------')\n",
    "print(f'\\nScheduled Monthly Payment = ${m:.2f}\\n------------------------------------')\n",
    "print(f'\\nScheduled Total Payment = ${total_loan_payable:.2f}\\n-------------------------------------')\n"
   ]
  },
  {
   "cell_type": "code",
   "execution_count": 3,
   "metadata": {},
   "outputs": [
    {
     "name": "stdout",
     "output_type": "stream",
     "text": [
      "\n",
      "Scheduled Total Payment = $107.90\n",
      "-------------------------------------\n"
     ]
    }
   ],
   "source": [
    "print(f'\\nScheduled Total Payment = ${total_loan_payable:.2f}\\n-------------------------------------')"
   ]
  }
 ],
 "metadata": {
  "kernelspec": {
   "display_name": "Python 3",
   "language": "python",
   "name": "python3"
  },
  "language_info": {
   "codemirror_mode": {
    "name": "ipython",
    "version": 3
   },
   "file_extension": ".py",
   "mimetype": "text/x-python",
   "name": "python",
   "nbconvert_exporter": "python",
   "pygments_lexer": "ipython3",
   "version": "3.12.4"
  }
 },
 "nbformat": 4,
 "nbformat_minor": 2
}
